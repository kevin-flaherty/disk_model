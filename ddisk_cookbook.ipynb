{
 "cells": [
  {
   "cell_type": "markdown",
   "metadata": {},
   "source": [
    "# Guidebook -- Modeling Debris Disks with `debris_disk.py`\n",
    "\n",
    "The following is a simple notebook to use as a reference when modeling debris disks using `debris_disk.py`, a simple script written by Evan Carter in collaboration with Kevin Flaherty and meant to provide additional functionality to Flaherty's circumstellar debris disk modeling code. This script is largely based on the architecture already present for modeling protoplanetary disks in the code, with a few major exceptions:\n",
    "\n",
    "- 'debris_disk.py' is made to work directly with the dust in the disk, with the possibility of including functionality for gas later on.\n",
    "- The dust temperature in the disk is set by the following radial power-law relation: \n",
    "\n",
    "$$T_d = \\left( \\frac{L_*}{16 \\pi d^2 \\sigma_B} \\right)^{1/4}$$\n",
    "\n",
    "where $L_*$ is the luminosity of the parent star, $d$ is the radial distance from the star, and $\\sigma_B$ is the Stefan-Boltzmann constant. Thus, the dust temperature within the disk is vertically isothermal and independent of dust grain size.\n",
    "- The dust surface density in the disk is governed by the following equation:\n",
    "\n",
    "$$\\Sigma = \\begin{cases} \\Sigma_C r^p \\; \\; \\; \\; &r_i < r < r_o \\\\\n",
    "                        0            \\; \\; \\; \\; &\\rm{otherwise} \\end{cases}$$\n",
    "                        \n",
    "In the case of AU Mic (the motivating example for the creation of this script), the dust density increases as a function of radius, and so the exponent $p > 0$."
   ]
  },
  {
   "cell_type": "markdown",
   "metadata": {},
   "source": [
    "## 1) Initializing a `Disk` class instance\n",
    "\n",
    "There are two basic ways to create a `Disk` class instance. Method 1 is as follows:"
   ]
  },
  {
   "cell_type": "code",
   "execution_count": 1,
   "metadata": {
    "collapsed": false
   },
   "outputs": [
    {
     "ename": "ModuleNotFoundError",
     "evalue": "No module named 'debris_disk'",
     "output_type": "error",
     "traceback": [
      "\u001b[0;31m---------------------------------------------------------------------------\u001b[0m",
      "\u001b[0;31mModuleNotFoundError\u001b[0m                       Traceback (most recent call last)",
      "\u001b[0;32m<ipython-input-1-53c67d288628>\u001b[0m in \u001b[0;36m<module>\u001b[0;34m()\u001b[0m\n\u001b[0;32m----> 1\u001b[0;31m \u001b[1;32mfrom\u001b[0m \u001b[0mdebris_disk\u001b[0m \u001b[1;32mimport\u001b[0m \u001b[1;33m*\u001b[0m\u001b[1;33m\u001b[0m\u001b[0m\n\u001b[0m\u001b[1;32m      2\u001b[0m \u001b[1;33m\u001b[0m\u001b[0m\n\u001b[1;32m      3\u001b[0m \u001b[0mdisk\u001b[0m \u001b[1;33m=\u001b[0m \u001b[0mDisk\u001b[0m\u001b[1;33m(\u001b[0m\u001b[1;33m)\u001b[0m\u001b[1;33m\u001b[0m\u001b[0m\n",
      "\u001b[0;31mModuleNotFoundError\u001b[0m: No module named 'debris_disk'"
     ]
    }
   ],
   "source": [
    "from debris_disk import *\n",
    "ddisk = Disk()"
   ]
  },
  {
   "cell_type": "markdown",
   "metadata": {},
   "source": [
    "While method 2 is preferred for ease of testing purposes, since the command `reload(Disk)` may be used at the `ipython` command line after making changes to the source file:"
   ]
  },
  {
   "cell_type": "code",
   "execution_count": null,
   "metadata": {
    "collapsed": true
   },
   "outputs": [],
   "source": [
    "import debris_disk\n",
    "ddisk = debris_disk.Disk()"
   ]
  }
 ],
 "metadata": {
  "kernelspec": {
   "display_name": "Python 3",
   "language": "python",
   "name": "python3"
  },
  "language_info": {
   "codemirror_mode": {
    "name": "ipython",
    "version": 3
   },
   "file_extension": ".py",
   "mimetype": "text/x-python",
   "name": "python",
   "nbconvert_exporter": "python",
   "pygments_lexer": "ipython3",
   "version": "3.6.0"
  }
 },
 "nbformat": 4,
 "nbformat_minor": 2
}
